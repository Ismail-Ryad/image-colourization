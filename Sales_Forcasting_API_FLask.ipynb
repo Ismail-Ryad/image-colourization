{
  "nbformat": 4,
  "nbformat_minor": 0,
  "metadata": {
    "colab": {
      "name": "Sales Forcasting_API_FLask.ipynb",
      "provenance": [],
      "authorship_tag": "ABX9TyM8YwW4ajYLL/wlWjiK4b1/",
      "include_colab_link": true
    },
    "kernelspec": {
      "name": "python3",
      "display_name": "Python 3"
    }
  },
  "cells": [
    {
      "cell_type": "markdown",
      "metadata": {
        "id": "view-in-github",
        "colab_type": "text"
      },
      "source": [
        "<a href=\"https://colab.research.google.com/github/Ismail-Ryad/image-colourization/blob/master/Sales_Forcasting_API_FLask.ipynb\" target=\"_parent\"><img src=\"https://colab.research.google.com/assets/colab-badge.svg\" alt=\"Open In Colab\"/></a>"
      ]
    },
    {
      "cell_type": "code",
      "metadata": {
        "id": "5jXlOPyP0C3N",
        "colab_type": "code",
        "colab": {}
      },
      "source": [
        "import numpy as np\n",
        "from flask import Flask, request, jsonify, render_template\n",
        "import pickle"
      ],
      "execution_count": 2,
      "outputs": []
    },
    {
      "cell_type": "code",
      "metadata": {
        "id": "zcG8kSct1cCf",
        "colab_type": "code",
        "colab": {
          "base_uri": "https://localhost:8080/",
          "height": 34
        },
        "outputId": "e00c34f6-68d9-4815-8c31-b31072b214f3"
      },
      "source": [
        "from google.colab import drive\n",
        "drive.mount('/content/drive')"
      ],
      "execution_count": 8,
      "outputs": [
        {
          "output_type": "stream",
          "text": [
            "Drive already mounted at /content/drive; to attempt to forcibly remount, call drive.mount(\"/content/drive\", force_remount=True).\n"
          ],
          "name": "stdout"
        }
      ]
    },
    {
      "cell_type": "code",
      "metadata": {
        "id": "u7nAN_v42XKd",
        "colab_type": "code",
        "colab": {
          "base_uri": "https://localhost:8080/",
          "height": 34
        },
        "outputId": "aa055472-f16b-4a20-ea42-3d64d311e3f7"
      },
      "source": [
        "import numpy as np\n",
        "import matplotlib.pyplot as plt\n",
        "import pandas as pd\n",
        "import pickle\n",
        "\n",
        "dataset = pd.read_csv('/content/drive/My Drive/test/sales.csv')\n",
        "\n",
        "dataset['rate'].fillna(0, inplace=True)\n",
        "\n",
        "dataset['sales_in_first_month'].fillna(dataset['sales_in_first_month'].mean(), inplace=True)\n",
        "\n",
        "X = dataset.iloc[:, :3]\n",
        "\n",
        "def convert_to_int(word):\n",
        "    word_dict = {'one':1, 'two':2, 'three':3, 'four':4, 'five':5, 'six':6, 'seven':7, 'eight':8,\n",
        "                'nine':9, 'ten':10, 'eleven':11, 'twelve':12, 'zero':0, 0: 0}\n",
        "    return word_dict[word]\n",
        "\n",
        "X['rate'] = X['rate'].apply(lambda x : convert_to_int(x))\n",
        "\n",
        "y = dataset.iloc[:, -1]\n",
        "\n",
        "from sklearn.linear_model import LinearRegression\n",
        "regressor = LinearRegression()\n",
        "\n",
        "regressor.fit(X, y)\n",
        "\n",
        "pickle.dump(regressor, open('/content/drive/My Drive/test/model.pkl','wb'))\n",
        "\n",
        "model = pickle.load(open('/content/drive/My Drive/test/model.pkl','rb'))\n",
        "print(model.predict([[4, 300, 500]]))"
      ],
      "execution_count": 11,
      "outputs": [
        {
          "output_type": "stream",
          "text": [
            "[143.3072588]\n"
          ],
          "name": "stdout"
        }
      ]
    },
    {
      "cell_type": "code",
      "metadata": {
        "id": "1uWq-48I1Clb",
        "colab_type": "code",
        "colab": {}
      },
      "source": [
        "\n",
        "app = Flask(__name__)\n",
        "model = pickle.load(open('/content/drive/My Drive/test/model.pkl', 'rb'))\n",
        "\n",
        "@app.route('/')\n",
        "def home():\n",
        "    return render_template('index.html')\n",
        "\n",
        "@app.route('/predict',methods=['POST'])\n",
        "def predict():\n",
        "\n",
        "    int_features = [int(x) for x in request.form.values()]\n",
        "    final_features = [np.array(int_features)]\n",
        "    prediction = model.predict(final_features)\n",
        "\n",
        "    output = round(prediction[0], 2)\n",
        "\n",
        "    return render_template('/content/drive/My Drive/test/index.html', prediction_text='Sales should be $ {}'.format(output))\n",
        "\n",
        "@app.route('/results',methods=['POST'])\n",
        "def results():\n",
        "\n",
        "    data = request.get_json(force=True)\n",
        "    prediction = model.predict([np.array(list(data.values()))])\n",
        "\n",
        "    output = prediction[0]\n",
        "    return jsonify(output)"
      ],
      "execution_count": 13,
      "outputs": []
    },
    {
      "cell_type": "code",
      "metadata": {
        "id": "TUknZqa01qOq",
        "colab_type": "code",
        "colab": {
          "base_uri": "https://localhost:8080/",
          "height": 119
        },
        "outputId": "4ad5b600-9210-40d5-b54d-8836687d06b4"
      },
      "source": [
        "if __name__ == \"__main__\":\n",
        "    app.run(debug=True,use_reloader=False)"
      ],
      "execution_count": 14,
      "outputs": [
        {
          "output_type": "stream",
          "text": [
            " * Serving Flask app \"__main__\" (lazy loading)\n",
            " * Environment: production\n",
            "\u001b[31m   WARNING: This is a development server. Do not use it in a production deployment.\u001b[0m\n",
            "\u001b[2m   Use a production WSGI server instead.\u001b[0m\n",
            " * Debug mode: on\n"
          ],
          "name": "stdout"
        },
        {
          "output_type": "stream",
          "text": [
            " * Running on http://127.0.0.1:5000/ (Press CTRL+C to quit)\n"
          ],
          "name": "stderr"
        }
      ]
    },
    {
      "cell_type": "code",
      "metadata": {
        "id": "KWkyoO3c25NT",
        "colab_type": "code",
        "colab": {}
      },
      "source": [
        ""
      ],
      "execution_count": null,
      "outputs": []
    }
  ]
}