{
  "nbformat": 4,
  "nbformat_minor": 0,
  "metadata": {
    "colab": {
      "name": "Densenet121-Image-Classification-Deployed-using-Flask-master.ipynb",
      "provenance": [],
      "authorship_tag": "ABX9TyMu89lyGpwfI+n3f0liapWh",
      "include_colab_link": true
    },
    "kernelspec": {
      "name": "python3",
      "display_name": "Python 3"
    }
  },
  "cells": [
    {
      "cell_type": "markdown",
      "metadata": {
        "id": "view-in-github",
        "colab_type": "text"
      },
      "source": [
        "<a href=\"https://colab.research.google.com/github/Ismail-Ryad/image-colourization/blob/master/Densenet121_Image_Classification_Deployed_using_Flask_master.ipynb\" target=\"_parent\"><img src=\"https://colab.research.google.com/assets/colab-badge.svg\" alt=\"Open In Colab\"/></a>"
      ]
    },
    {
      "cell_type": "code",
      "metadata": {
        "id": "-mNREqSpDcna",
        "colab_type": "code",
        "colab": {
          "base_uri": "https://localhost:8080/",
          "height": 34
        },
        "outputId": "515a9aa4-a982-487f-c570-071d610730b3"
      },
      "source": [
        "from google.colab import drive\n",
        "drive.mount('/content/drive')"
      ],
      "execution_count": 2,
      "outputs": [
        {
          "output_type": "stream",
          "text": [
            "Drive already mounted at /content/drive; to attempt to forcibly remount, call drive.mount(\"/content/drive\", force_remount=True).\n"
          ],
          "name": "stdout"
        }
      ]
    },
    {
      "cell_type": "code",
      "metadata": {
        "id": "i7ZbfzLND-h_",
        "colab_type": "code",
        "colab": {
          "base_uri": "https://localhost:8080/",
          "height": 34
        },
        "outputId": "d940f527-5101-4855-9421-14640de84356"
      },
      "source": [
        "!ls"
      ],
      "execution_count": 3,
      "outputs": [
        {
          "output_type": "stream",
          "text": [
            "drive  sample_data\n"
          ],
          "name": "stdout"
        }
      ]
    },
    {
      "cell_type": "code",
      "metadata": {
        "id": "OzgeBTyADftq",
        "colab_type": "code",
        "colab": {}
      },
      "source": [
        "from flask import Flask, render_template, request, redirect, url_for\n",
        "#from get_images import get_images, get_path, get_directory\n",
        "#from get_prediction import get_prediction\n",
        "#from generate_html import generate_html\n",
        "from torchvision import models\n",
        "import json\n",
        "\n",
        "app = Flask(__name__)\n",
        "\n",
        "# mapping\n",
        "imagenet_class_mapping = json.load(open('/content/drive/My Drive/test/Densenet121-Image-Classification-Deployed-using-Flask-master/imagenet_class_index.json'))\n",
        "\n",
        "# Make sure to pass `pretrained` as `True` to use the pretrained weights:\n",
        "model = models.densenet121(pretrained=True)\n",
        "# Since we are using our model only for inference, switch to `eval` mode:\n",
        "model.eval()\n",
        "\n",
        "\n",
        "def get_image_class(path):\n",
        "    get_images(path)\n",
        "    path = get_path(path)\n",
        "    images_with_tags = get_prediction(model, imagenet_class_mapping, path)\n",
        "    print(images_with_tags)\n",
        "    generate_html(images_with_tags)\n",
        "\n",
        "@app.route('/')\n",
        "def home():\n",
        "    return render_template('/content/drive/My Drive/test/Densenet121-Image-Classification-Deployed-using-Flask-master/templates/home.html')\n",
        "\n",
        "\n",
        "@app.route('/', methods=['POST', 'GET'])\n",
        "def get_data():\n",
        "    if request.method == 'POST':\n",
        "        user = request.form['search']\n",
        "        get_image_class(user)\n",
        "        return redirect(url_for('success', name=get_directory(user)))\n",
        "\n",
        "\n",
        "@app.route('/success/<name>')\n",
        "def success(name):\n",
        "    return render_template('/content/drive/My Drive/test/Densenet121-Image-Classification-Deployed-using-Flask-master/templates/image_class.html')\n",
        "\n",
        "\n"
      ],
      "execution_count": 8,
      "outputs": []
    },
    {
      "cell_type": "code",
      "metadata": {
        "id": "qjL6gCrQFUDK",
        "colab_type": "code",
        "colab": {}
      },
      "source": [
        "# importing required libraries\n",
        "import requests\n",
        "from bs4 import BeautifulSoup\n",
        "import os\n",
        "import time\n",
        "\n",
        "def get_directory(url):\n",
        "    return \"URL_\" + str(url.replace(\"/\",\"_\"))\n",
        "\n",
        "def get_path(url):\n",
        "    return \"static/URL_\" + str(url.replace(\"/\",\"_\"))\n",
        "\n",
        "headers = {\n",
        "    'User-Agent': \"Mozilla/5.0 (X11; Linux x86_64) AppleWebKit/537.36 (KHTML, like Gecko) Chrome/77.0.3865.90 Safari/537.36\"\n",
        "    }\n",
        "\n",
        "def get_images(url):\n",
        "    path = get_path(url)\n",
        "    try:\n",
        "        os.mkdir(path)\n",
        "    except:\n",
        "        pass\n",
        "    response = requests.request(\"GET\", url, headers=headers)\n",
        "    data = BeautifulSoup(response.text, 'html.parser')\n",
        "    images = data.find_all('img', src=True)\n",
        "    print('Number of Images: ', len(images))\n",
        "    # select src tag\n",
        "    image_src = [x['src'] for x in images]\n",
        "    # select only jp format images\n",
        "    image_src = [x for x in image_src if x.endswith('.jpeg') ]\n",
        "    image_count = 1\n",
        "    for image in image_src:\n",
        "        print(image)\n",
        "        image_file_name = path+'/'+str(image_count)+'.jpeg' \n",
        "        print(image_file_name)\n",
        "        with open(image_file_name, 'wb') as f:\n",
        "            res = requests.get(image)\n",
        "            f.write(res.content)\n",
        "        image_count = image_count+1\n",
        "\n"
      ],
      "execution_count": 9,
      "outputs": []
    },
    {
      "cell_type": "code",
      "metadata": {
        "id": "X19UgdJzFWtL",
        "colab_type": "code",
        "colab": {}
      },
      "source": [
        "import json\n",
        "import pandas as pd\n",
        "import io\n",
        "import glob\n",
        "import torchvision.transforms as transforms\n",
        "from PIL import Image\n",
        "from torchvision import models\n",
        "\n",
        "\n",
        "def transform_image(image_bytes):\n",
        "    my_transforms = transforms.Compose([transforms.Resize(255),\n",
        "                                        transforms.CenterCrop(224),\n",
        "                                        transforms.ToTensor(),\n",
        "                                        transforms.Normalize(\n",
        "                                            [0.485, 0.456, 0.406],\n",
        "                                            [0.229, 0.224, 0.225])])\n",
        "    image = Image.open(io.BytesIO(image_bytes))\n",
        "    return my_transforms(image).unsqueeze(0)\n",
        "\n",
        "def get_category(model, imagenet_class_mapping, image_path):\n",
        "    with open(image_path, 'rb') as file:\n",
        "        image_bytes = file.read()\n",
        "    transformed_image = transform_image(image_bytes=image_bytes)\n",
        "    outputs = model.forward(transformed_image)\n",
        "    \n",
        "    _, category = outputs.max(1)\n",
        "    \n",
        "    predicted_idx = str(category.item())\n",
        "    return imagenet_class_mapping[predicted_idx]\n",
        "\n",
        "def get_prediction(model, imagenet_class_mapping, path_to_directory):\n",
        "    files = glob.glob(path_to_directory+'/*')\n",
        "    image_with_tags = {}\n",
        "    for image_file in files:\n",
        "        image_with_tags[image_file] = get_category(model, imagenet_class_mapping, image_path=image_file)[1]\n",
        "    return image_with_tags\n",
        "\n"
      ],
      "execution_count": 10,
      "outputs": []
    },
    {
      "cell_type": "code",
      "metadata": {
        "id": "fWQGD9W8FYRq",
        "colab_type": "code",
        "colab": {}
      },
      "source": [
        "import glob\n",
        "\n",
        "html_string_start = \"\"\"\n",
        "<html>\n",
        "<head>\n",
        "<meta name=\"viewport\" content=\"width=device-width, initial-scale=1.0\">\n",
        "</head>\n",
        "\n",
        "<style>\n",
        "#left-bar {\n",
        "  position: fixed;\n",
        "  display: table-cell;\n",
        "  top: 100;\n",
        "  bottom: 10;\n",
        "  left: 10;\n",
        "  width: 35%;\n",
        "  overflow-y: auto;\n",
        "}\n",
        "\n",
        "#right-bar {\n",
        "  position: fixed;\n",
        "  display: table-cell;\n",
        "  top: 100;\n",
        "  bottom: 10;\n",
        "  right: 10;\n",
        "  width: 45%;\n",
        "  overflow-y: auto;\n",
        "}\n",
        "\n",
        "</style>\n",
        "<body>\n",
        "\n",
        "<center><h1> Image Classification </h1></center>\n",
        "\n",
        "<div id= \"left-bar\" >\n",
        "\n",
        "\"\"\"\n",
        "\n",
        "\n",
        "html_string_end = \"\"\"\n",
        "\n",
        "</body>\n",
        "</html>\n",
        "\n",
        "\"\"\"\n",
        "\n"
      ],
      "execution_count": 11,
      "outputs": []
    },
    {
      "cell_type": "code",
      "metadata": {
        "id": "rYZkDvnLFZmH",
        "colab_type": "code",
        "colab": {}
      },
      "source": [
        "\n",
        "def get_picture_html(path, tag):\n",
        "    image_html = \"\"\"<p> {tag_name} </p> <picture> <img src= \"../{path_name}\"  height=\"300\" width=\"400\"> </picture>\"\"\"\n",
        "    return image_html.format(tag_name=tag, path_name=path)\n",
        "\n",
        "def get_count_html(category, count):\n",
        "    count_html = \"\"\"<li> {category_name} : {count_} </li>\"\"\"\n",
        "    return count_html.format(category_name = category, count_ = count)\n",
        "\n",
        "\n",
        "def get_value_count(image_class_dict):\n",
        "    count_dic = {}\n",
        "    for category in image_class_dict.values():\n",
        "        if category in count_dic.keys():\n",
        "            count_dic[category] = count_dic[category]+1\n",
        "        else:\n",
        "            count_dic[category] = 1\n",
        "    return count_dic\n",
        "\n",
        "\n",
        "def generate_html(image_class_dict):\n",
        "    picture_html = \"\"\n",
        "    count_html = \"\"\n",
        "    \n",
        "    for image in image_class_dict.keys():\n",
        "        picture_html += get_picture_html(path=image, tag= image_class_dict[image])\n",
        "        \n",
        "    value_counts = get_value_count(image_class_dict)\n",
        "    \n",
        "    for value in value_counts.keys():\n",
        "        count_html += get_count_html(value, value_counts[value])\n",
        "        \n",
        "    file_content = html_string_start + picture_html + \"\"\"</div> <div id= \"right-bar\" >\"\"\" + count_html+ \"</div>\" +html_string_end\n",
        "    with open('templates/image_class.html', 'w') as f:\n",
        "        f.write(file_content)"
      ],
      "execution_count": 12,
      "outputs": []
    },
    {
      "cell_type": "code",
      "metadata": {
        "id": "ZIClMERvFbLP",
        "colab_type": "code",
        "colab": {
          "base_uri": "https://localhost:8080/",
          "height": 119
        },
        "outputId": "009cc6e6-782e-43ff-874e-f75757bd8aef"
      },
      "source": [
        "if __name__ == \"__main__\":\n",
        "    app.run(debug=True,use_reloader=False)"
      ],
      "execution_count": null,
      "outputs": [
        {
          "output_type": "stream",
          "text": [
            " * Serving Flask app \"__main__\" (lazy loading)\n",
            " * Environment: production\n",
            "\u001b[31m   WARNING: This is a development server. Do not use it in a production deployment.\u001b[0m\n",
            "\u001b[2m   Use a production WSGI server instead.\u001b[0m\n",
            " * Debug mode: on\n"
          ],
          "name": "stdout"
        },
        {
          "output_type": "stream",
          "text": [
            " * Running on http://127.0.0.1:5000/ (Press CTRL+C to quit)\n"
          ],
          "name": "stderr"
        }
      ]
    },
    {
      "cell_type": "code",
      "metadata": {
        "id": "5vrzanOvFdgl",
        "colab_type": "code",
        "colab": {}
      },
      "source": [
        ""
      ],
      "execution_count": null,
      "outputs": []
    }
  ]
}